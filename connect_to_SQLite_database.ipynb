{
  "nbformat": 4,
  "nbformat_minor": 0,
  "metadata": {
    "colab": {
      "provenance": [],
      "authorship_tag": "ABX9TyMt439LnGCumnmexoH1FSot",
      "include_colab_link": true
    },
    "kernelspec": {
      "name": "python3",
      "display_name": "Python 3"
    },
    "language_info": {
      "name": "python"
    }
  },
  "cells": [
    {
      "cell_type": "markdown",
      "metadata": {
        "id": "view-in-github",
        "colab_type": "text"
      },
      "source": [
        "<a href=\"https://colab.research.google.com/github/FaziRouzbahani/Connect-to-SQLite-using-sqlite3-library/blob/main/connect_to_SQLite_database.ipynb\" target=\"_parent\"><img src=\"https://colab.research.google.com/assets/colab-badge.svg\" alt=\"Open In Colab\"/></a>"
      ]
    },
    {
      "cell_type": "code",
      "execution_count": null,
      "metadata": {
        "id": "64RVDyt8NxD7"
      },
      "outputs": [],
      "source": [
        "#I created a database in SQLite and also in SSMS. I have 2 tables in XLSX format which can not be imported in SQLite and I changed it to CSV before importing.\n",
        "#which it changed the column format, resulting in incorrect calculations.\n",
        "#Now I am creating a database using Python, which preserved the data types of my columns and then I will save the database and work on it on SQLite.\n",
        "#2 facts that make working on SSMS more easy: 1)Able to run multiple lines of queries and see the result all together 2)could import xlsx table into database easily\n",
        "import pandas as pd"
      ]
    },
    {
      "cell_type": "code",
      "source": [
        "#create two data frames\n",
        "df=pd.read_excel(\"/content/Dataset2.xlsx\")\n",
        "df2=pd.read_excel(\"/content/Dataset1.xlsx\")"
      ],
      "metadata": {
        "id": "LLQNebwFN-9B"
      },
      "execution_count": null,
      "outputs": []
    },
    {
      "cell_type": "code",
      "source": [
        "#There is not any problem with the data type itself, but when we import it into SQLite, It changes the data type.\n",
        "df.dtypes"
      ],
      "metadata": {
        "colab": {
          "base_uri": "https://localhost:8080/",
          "height": 209
        },
        "id": "ijXpKBwhOFA6",
        "outputId": "f93c7312-d275-4c73-87a9-359bc0e25921"
      },
      "execution_count": null,
      "outputs": [
        {
          "output_type": "execute_result",
          "data": {
            "text/plain": [
              "District      object\n",
              "State         object\n",
              "Area_km2       int64\n",
              "Population     int64\n",
              "dtype: object"
            ],
            "text/html": [
              "<div>\n",
              "<style scoped>\n",
              "    .dataframe tbody tr th:only-of-type {\n",
              "        vertical-align: middle;\n",
              "    }\n",
              "\n",
              "    .dataframe tbody tr th {\n",
              "        vertical-align: top;\n",
              "    }\n",
              "\n",
              "    .dataframe thead th {\n",
              "        text-align: right;\n",
              "    }\n",
              "</style>\n",
              "<table border=\"1\" class=\"dataframe\">\n",
              "  <thead>\n",
              "    <tr style=\"text-align: right;\">\n",
              "      <th></th>\n",
              "      <th>0</th>\n",
              "    </tr>\n",
              "  </thead>\n",
              "  <tbody>\n",
              "    <tr>\n",
              "      <th>District</th>\n",
              "      <td>object</td>\n",
              "    </tr>\n",
              "    <tr>\n",
              "      <th>State</th>\n",
              "      <td>object</td>\n",
              "    </tr>\n",
              "    <tr>\n",
              "      <th>Area_km2</th>\n",
              "      <td>int64</td>\n",
              "    </tr>\n",
              "    <tr>\n",
              "      <th>Population</th>\n",
              "      <td>int64</td>\n",
              "    </tr>\n",
              "  </tbody>\n",
              "</table>\n",
              "</div><br><label><b>dtype:</b> object</label>"
            ]
          },
          "metadata": {},
          "execution_count": 12
        }
      ]
    },
    {
      "cell_type": "code",
      "source": [
        "#create database in SQLite and\n",
        "import sqlite3\n",
        "conn=sqlite3.connect(\"India_Census.db\")\n",
        "\n"
      ],
      "metadata": {
        "id": "R9u09kMGORNv"
      },
      "execution_count": null,
      "outputs": []
    },
    {
      "cell_type": "code",
      "source": [
        "#import those 2 data frames into the database in SQLite\n",
        "df.to_sql(\"Dataset2\",conn,if_exists=\"replace\",index=False)\n",
        "df2.to_sql(\"Dateset1\",conn,if_exists=\"replace\",index=False)"
      ],
      "metadata": {
        "colab": {
          "base_uri": "https://localhost:8080/"
        },
        "id": "gqtNmzHlWMSt",
        "outputId": "52f346a0-cb51-4c13-a406-69d06076935d"
      },
      "execution_count": null,
      "outputs": [
        {
          "output_type": "execute_result",
          "data": {
            "text/plain": [
              "640"
            ]
          },
          "metadata": {},
          "execution_count": 16
        }
      ]
    },
    {
      "cell_type": "code",
      "source": [
        "#Now we download the data base,including 2 tables, and start working on them while their data type are correct."
      ],
      "metadata": {
        "id": "4_jKt2uZX0KB"
      },
      "execution_count": null,
      "outputs": []
    },
    {
      "cell_type": "code",
      "source": [
        "#close the connection\n",
        "conn.close()"
      ],
      "metadata": {
        "id": "W6eNtyrOcDAR"
      },
      "execution_count": null,
      "outputs": []
    }
  ]
}